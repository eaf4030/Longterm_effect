{
 "cells": [
  {
   "cell_type": "code",
   "execution_count": 146,
   "id": "951e4507",
   "metadata": {},
   "outputs": [],
   "source": [
    "import numpy as np\n",
    "import pandas as pd\n",
    "import matplotlib.pyplot as plt\n",
    "from scipy import interpolate\n",
    "from datetime import datetime\n",
    "import scipy.optimize\n",
    "import datashader as ds\n",
    "import colorcet as cc\n",
    "from sklearn.cluster import KMeans, MiniBatchKMeans\n",
    "import holoviews as hv\n",
    "from holoviews import opts\n",
    "from holoviews.element.tiles import StamenTerrain\n",
    "import holoviews.operation.datashader as hd\n",
    "import statsmodels.formula.api as smf"
   ]
  },
  {
   "cell_type": "code",
   "execution_count": 157,
   "id": "974fa9ff",
   "metadata": {},
   "outputs": [],
   "source": [
    "N = 400\n",
    "T = 5\n",
    "sigma = .0003\n",
    "noise  = np.random.normal(0,sigma,(N,T))\n",
    "alpha_1 = .2\n",
    "alpha_2 = .12\n",
    "ybar = 0"
   ]
  },
  {
   "cell_type": "code",
   "execution_count": 160,
   "id": "0ed0aeb5",
   "metadata": {},
   "outputs": [],
   "source": [
    "def data_generator(N, T, sigma, ybar, alpha_1, alpha_2):\n",
    "    arr = np.random.normal(0,1,(2,N)) \n",
    "\n",
    "    for t in range(1,T+1):\n",
    "        y_t = arr[-1:,:] * alpha_1 + arr[-2:-1,:] * alpha_2 #+  np.random.normal(ybar,0,(1,N))\n",
    "        arr = np.concatenate((arr, y_t), axis = 0)\n",
    "    \n",
    "    df = pd.DataFrame()\n",
    "    df['user'] = list(np.arange(1,N+1))*(T+2)\n",
    "    df['metric'] = np.concatenate(arr)\n",
    "    df.sort_values(by=['user'], inplace=True)\n",
    "    df['time'] = df.groupby('user').cumcount()\n",
    "    df['time'] = df['time'] - 2\n",
    "    df['lag_1'] = df.groupby('user')['metric'].shift(1)\n",
    "    df['lag_2'] = df.groupby('user')['metric'].shift(2)\n",
    "    #df['time'] = df.groupby('user').count\n",
    "    return(df)\n",
    "    "
   ]
  },
  {
   "cell_type": "code",
   "execution_count": 161,
   "id": "037b5e70",
   "metadata": {},
   "outputs": [
    {
     "data": {
      "text/html": [
       "<div>\n",
       "<style scoped>\n",
       "    .dataframe tbody tr th:only-of-type {\n",
       "        vertical-align: middle;\n",
       "    }\n",
       "\n",
       "    .dataframe tbody tr th {\n",
       "        vertical-align: top;\n",
       "    }\n",
       "\n",
       "    .dataframe thead th {\n",
       "        text-align: right;\n",
       "    }\n",
       "</style>\n",
       "<table border=\"1\" class=\"dataframe\">\n",
       "  <thead>\n",
       "    <tr style=\"text-align: right;\">\n",
       "      <th></th>\n",
       "      <th>user</th>\n",
       "      <th>metric</th>\n",
       "      <th>time</th>\n",
       "      <th>lag_1</th>\n",
       "      <th>lag_2</th>\n",
       "    </tr>\n",
       "  </thead>\n",
       "  <tbody>\n",
       "    <tr>\n",
       "      <th>0</th>\n",
       "      <td>1</td>\n",
       "      <td>0.187581</td>\n",
       "      <td>-2</td>\n",
       "      <td>NaN</td>\n",
       "      <td>NaN</td>\n",
       "    </tr>\n",
       "    <tr>\n",
       "      <th>2000</th>\n",
       "      <td>1</td>\n",
       "      <td>0.056121</td>\n",
       "      <td>-1</td>\n",
       "      <td>0.187581</td>\n",
       "      <td>NaN</td>\n",
       "    </tr>\n",
       "    <tr>\n",
       "      <th>800</th>\n",
       "      <td>1</td>\n",
       "      <td>0.383437</td>\n",
       "      <td>0</td>\n",
       "      <td>0.056121</td>\n",
       "      <td>0.187581</td>\n",
       "    </tr>\n",
       "    <tr>\n",
       "      <th>1200</th>\n",
       "      <td>1</td>\n",
       "      <td>0.293243</td>\n",
       "      <td>1</td>\n",
       "      <td>0.383437</td>\n",
       "      <td>0.056121</td>\n",
       "    </tr>\n",
       "    <tr>\n",
       "      <th>1600</th>\n",
       "      <td>1</td>\n",
       "      <td>0.104661</td>\n",
       "      <td>2</td>\n",
       "      <td>0.293243</td>\n",
       "      <td>0.383437</td>\n",
       "    </tr>\n",
       "    <tr>\n",
       "      <th>...</th>\n",
       "      <td>...</td>\n",
       "      <td>...</td>\n",
       "      <td>...</td>\n",
       "      <td>...</td>\n",
       "      <td>...</td>\n",
       "    </tr>\n",
       "    <tr>\n",
       "      <th>1199</th>\n",
       "      <td>400</td>\n",
       "      <td>-0.279848</td>\n",
       "      <td>0</td>\n",
       "      <td>-0.330574</td>\n",
       "      <td>-0.038729</td>\n",
       "    </tr>\n",
       "    <tr>\n",
       "      <th>1999</th>\n",
       "      <td>400</td>\n",
       "      <td>-0.073597</td>\n",
       "      <td>1</td>\n",
       "      <td>-0.279848</td>\n",
       "      <td>-0.330574</td>\n",
       "    </tr>\n",
       "    <tr>\n",
       "      <th>799</th>\n",
       "      <td>400</td>\n",
       "      <td>-1.200896</td>\n",
       "      <td>2</td>\n",
       "      <td>-0.073597</td>\n",
       "      <td>-0.279848</td>\n",
       "    </tr>\n",
       "    <tr>\n",
       "      <th>1599</th>\n",
       "      <td>400</td>\n",
       "      <td>-0.200077</td>\n",
       "      <td>3</td>\n",
       "      <td>-1.200896</td>\n",
       "      <td>-0.073597</td>\n",
       "    </tr>\n",
       "    <tr>\n",
       "      <th>2799</th>\n",
       "      <td>400</td>\n",
       "      <td>-0.016577</td>\n",
       "      <td>4</td>\n",
       "      <td>-0.200077</td>\n",
       "      <td>-1.200896</td>\n",
       "    </tr>\n",
       "  </tbody>\n",
       "</table>\n",
       "<p>2800 rows × 5 columns</p>\n",
       "</div>"
      ],
      "text/plain": [
       "      user    metric  time     lag_1     lag_2\n",
       "0        1  0.187581    -2       NaN       NaN\n",
       "2000     1  0.056121    -1  0.187581       NaN\n",
       "800      1  0.383437     0  0.056121  0.187581\n",
       "1200     1  0.293243     1  0.383437  0.056121\n",
       "1600     1  0.104661     2  0.293243  0.383437\n",
       "...    ...       ...   ...       ...       ...\n",
       "1199   400 -0.279848     0 -0.330574 -0.038729\n",
       "1999   400 -0.073597     1 -0.279848 -0.330574\n",
       "799    400 -1.200896     2 -0.073597 -0.279848\n",
       "1599   400 -0.200077     3 -1.200896 -0.073597\n",
       "2799   400 -0.016577     4 -0.200077 -1.200896\n",
       "\n",
       "[2800 rows x 5 columns]"
      ]
     },
     "execution_count": 161,
     "metadata": {},
     "output_type": "execute_result"
    }
   ],
   "source": [
    "df = data_generator(N, T, sigma, 1, alpha_1, alpha_2)\n",
    "df"
   ]
  },
  {
   "cell_type": "code",
   "execution_count": 162,
   "id": "8df7c382",
   "metadata": {},
   "outputs": [
    {
     "name": "stdout",
     "output_type": "stream",
     "text": [
      "                                 OLS Regression Results                                \n",
      "=======================================================================================\n",
      "Dep. Variable:                 metric   R-squared (uncentered):                   0.040\n",
      "Model:                            OLS   Adj. R-squared (uncentered):              0.039\n",
      "Method:                 Least Squares   F-statistic:                              41.56\n",
      "Date:                Fri, 14 Oct 2022   Prob (F-statistic):                    2.07e-18\n",
      "Time:                        18:10:41   Log-Likelihood:                         -1592.6\n",
      "No. Observations:                2000   AIC:                                      3189.\n",
      "Df Residuals:                    1998   BIC:                                      3200.\n",
      "Df Model:                           2                                                  \n",
      "Covariance Type:            nonrobust                                                  \n",
      "==============================================================================\n",
      "                 coef    std err          t      P>|t|      [0.025      0.975]\n",
      "------------------------------------------------------------------------------\n",
      "lag_1          0.1346      0.023      5.981      0.000       0.090       0.179\n",
      "lag_2          0.1287      0.022      5.886      0.000       0.086       0.172\n",
      "==============================================================================\n",
      "Omnibus:                      305.661   Durbin-Watson:                   2.000\n",
      "Prob(Omnibus):                  0.000   Jarque-Bera (JB):             4853.514\n",
      "Skew:                          -0.001   Prob(JB):                         0.00\n",
      "Kurtosis:                      10.632   Cond. No.                         1.17\n",
      "==============================================================================\n",
      "\n",
      "Notes:\n",
      "[1] R² is computed without centering (uncentered) since the model does not contain a constant.\n",
      "[2] Standard Errors assume that the covariance matrix of the errors is correctly specified.\n"
     ]
    }
   ],
   "source": [
    "formula='metric ~  lag_1 + lag_2 - 1'\n",
    "\n",
    "result1 =  smf.ols(formula=formula, data=df).fit()\n",
    "print(result1.summary())"
   ]
  },
  {
   "cell_type": "code",
   "execution_count": 100,
   "id": "b0be23be",
   "metadata": {},
   "outputs": [
    {
     "data": {
      "text/plain": [
       "array([-1.23055211,  1.48999845, -0.80934699,  0.24699584, -1.87252446,\n",
       "       -0.09530446, -1.1041545 ,  0.59464965, -0.05708783, -0.64326994,\n",
       "       -0.31303167,  1.54315687, -0.40644634,  0.46817727, -0.82005526,\n",
       "       -0.34816443,  1.08382827, -0.03497284,  0.38867756,  0.55141604,\n",
       "       -0.21027259,  0.48743119, -0.17841091,  0.12327495, -0.38871399,\n",
       "       -0.08106942,  0.08426711,  0.06436339,  0.07088497,  0.03309081,\n",
       "       -0.07961832,  0.28266506, -0.08445574,  0.08083626, -0.17614943,\n",
       "       -0.05799362,  0.14691282,  0.00867594,  0.0608183 ,  0.07278809])"
      ]
     },
     "execution_count": 100,
     "metadata": {},
     "output_type": "execute_result"
    }
   ],
   "source": [
    "np.concatenate(arr)"
   ]
  },
  {
   "cell_type": "code",
   "execution_count": 58,
   "id": "1cfc3f5b",
   "metadata": {},
   "outputs": [
    {
     "data": {
      "text/plain": [
       "array([1, 2, 3])"
      ]
     },
     "execution_count": 58,
     "metadata": {},
     "output_type": "execute_result"
    }
   ],
   "source": [
    "np.arange(1,4, )"
   ]
  },
  {
   "cell_type": "code",
   "execution_count": 63,
   "id": "8e70d753",
   "metadata": {},
   "outputs": [
    {
     "ename": "ValueError",
     "evalue": "zero-dimensional arrays cannot be concatenated",
     "output_type": "error",
     "traceback": [
      "\u001b[0;31m---------------------------------------------------------------------------\u001b[0m",
      "\u001b[0;31mValueError\u001b[0m                                Traceback (most recent call last)",
      "\u001b[0;32m<ipython-input-63-1668a0e1808c>\u001b[0m in \u001b[0;36m<module>\u001b[0;34m\u001b[0m\n\u001b[0;32m----> 1\u001b[0;31m \u001b[0mnp\u001b[0m\u001b[0;34m.\u001b[0m\u001b[0mconcatenate\u001b[0m\u001b[0;34m(\u001b[0m\u001b[0mnp\u001b[0m\u001b[0;34m.\u001b[0m\u001b[0marange\u001b[0m\u001b[0;34m(\u001b[0m\u001b[0;36m1\u001b[0m\u001b[0;34m,\u001b[0m\u001b[0;36m5\u001b[0m\u001b[0;34m)\u001b[0m\u001b[0;34m,\u001b[0m \u001b[0maxis\u001b[0m\u001b[0;34m=\u001b[0m\u001b[0;36m1\u001b[0m\u001b[0;34m)\u001b[0m\u001b[0;34m\u001b[0m\u001b[0;34m\u001b[0m\u001b[0m\n\u001b[0m",
      "\u001b[0;32m<__array_function__ internals>\u001b[0m in \u001b[0;36mconcatenate\u001b[0;34m(*args, **kwargs)\u001b[0m\n",
      "\u001b[0;31mValueError\u001b[0m: zero-dimensional arrays cannot be concatenated"
     ]
    }
   ],
   "source": [
    "np.concatenate(np.arange(1,5), axis=1)"
   ]
  },
  {
   "cell_type": "code",
   "execution_count": null,
   "id": "65d70b30",
   "metadata": {},
   "outputs": [],
   "source": []
  }
 ],
 "metadata": {
  "kernelspec": {
   "display_name": "Python 3",
   "language": "python",
   "name": "python3"
  },
  "language_info": {
   "codemirror_mode": {
    "name": "ipython",
    "version": 3
   },
   "file_extension": ".py",
   "mimetype": "text/x-python",
   "name": "python",
   "nbconvert_exporter": "python",
   "pygments_lexer": "ipython3",
   "version": "3.8.8"
  }
 },
 "nbformat": 4,
 "nbformat_minor": 5
}
